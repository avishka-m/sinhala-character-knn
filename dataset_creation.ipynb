{
 "cells": [
  {
   "cell_type": "code",
   "execution_count": 7,
   "id": "7a814d1e",
   "metadata": {},
   "outputs": [],
   "source": [
    "import os"
   ]
  },
  {
   "cell_type": "code",
   "execution_count": 8,
   "id": "c1d6b779",
   "metadata": {},
   "outputs": [
    {
     "name": "stdout",
     "output_type": "stream",
     "text": [
      "['1-dataset-creation.ipynb', '2-training-the-KNN.ipynb', '3-sinhala-character-gui.ipynb', 'data', 'data.npy', 'dataset', 'drive-download-20250910T040441Z-1-001.zip', 'GUI.ipynb', 'Machine Learning Introduction.ipynb', 'MY', 'sinhala-character-knn.sav', 'target.npy', 'Tkinter-Examples-master']\n"
     ]
    }
   ],
   "source": [
    "c = os.listdir(r\"D:\\PROJECTS\\ML\\YT\\Lab\\KNN(Sinhala Charactore recognization)\")\n",
    "print(c)"
   ]
  },
  {
   "cell_type": "code",
   "execution_count": null,
   "id": "694d467b",
   "metadata": {},
   "outputs": [
    {
     "name": "stdout",
     "output_type": "stream",
     "text": [
      "D:\\PROJECTS\\ML\\YT\\Lab\\KNN(Sinhala Charactore recognization)\n"
     ]
    }
   ],
   "source": []
  },
  {
   "cell_type": "code",
   "execution_count": null,
   "id": "6fd4f3d3",
   "metadata": {},
   "outputs": [],
   "source": []
  }
 ],
 "metadata": {
  "kernelspec": {
   "display_name": "conda_venv",
   "language": "python",
   "name": "python3"
  },
  "language_info": {
   "codemirror_mode": {
    "name": "ipython",
    "version": 3
   },
   "file_extension": ".py",
   "mimetype": "text/x-python",
   "name": "python",
   "nbconvert_exporter": "python",
   "pygments_lexer": "ipython3",
   "version": "3.12.9"
  }
 },
 "nbformat": 4,
 "nbformat_minor": 5
}
