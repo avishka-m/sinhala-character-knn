{
 "cells": [
  {
   "cell_type": "code",
   "execution_count": 7,
   "id": "7a814d1e",
   "metadata": {},
   "outputs": [],
   "source": [
    "import os"
   ]
  },
  {
   "cell_type": "code",
   "execution_count": 12,
   "id": "c1d6b779",
   "metadata": {},
   "outputs": [
    {
     "name": "stdout",
     "output_type": "stream",
     "text": [
      "['a', 'ae', 'e', 'u']\n"
     ]
    }
   ],
   "source": [
    "data_path = r\"D:\\PROJECTS\\ML\\YT\\Lab\\KNN(Sinhala Charactore recognization)\\dataset\"\n",
    "categories = os.listdir(data_path)\n",
    "print(categories)"
   ]
  },
  {
   "cell_type": "code",
   "execution_count": 14,
   "id": "694d467b",
   "metadata": {},
   "outputs": [
    {
     "name": "stdout",
     "output_type": "stream",
     "text": [
      "[0, 1, 2, 3]\n"
     ]
    }
   ],
   "source": [
    "lables = [i for i in range(len(categories))]\n",
    "print(lables)"
   ]
  },
  {
   "cell_type": "code",
   "execution_count": 15,
   "id": "6fd4f3d3",
   "metadata": {},
   "outputs": [
    {
     "name": "stdout",
     "output_type": "stream",
     "text": [
      "{'a': 0, 'ae': 1, 'e': 2, 'u': 3}\n"
     ]
    }
   ],
   "source": [
    "category_dict = {'a':0,'ae':1 ,'e':2, 'u':3}\n",
    "print(category_dict)"
   ]
  },
  {
   "cell_type": "code",
   "execution_count": null,
   "id": "90c02431",
   "metadata": {},
   "outputs": [],
   "source": []
  }
 ],
 "metadata": {
  "kernelspec": {
   "display_name": "conda_venv",
   "language": "python",
   "name": "python3"
  },
  "language_info": {
   "codemirror_mode": {
    "name": "ipython",
    "version": 3
   },
   "file_extension": ".py",
   "mimetype": "text/x-python",
   "name": "python",
   "nbconvert_exporter": "python",
   "pygments_lexer": "ipython3",
   "version": "3.12.9"
  }
 },
 "nbformat": 4,
 "nbformat_minor": 5
}
