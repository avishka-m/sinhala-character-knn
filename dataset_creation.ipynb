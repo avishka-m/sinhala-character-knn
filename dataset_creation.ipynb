{
 "cells": [
  {
   "cell_type": "code",
   "execution_count": 7,
   "id": "7a814d1e",
   "metadata": {},
   "outputs": [],
   "source": [
    "import os"
   ]
  },
  {
   "cell_type": "code",
   "execution_count": 19,
   "id": "c1d6b779",
   "metadata": {},
   "outputs": [
    {
     "name": "stdout",
     "output_type": "stream",
     "text": [
      "['a', 'ae', 'e', 'u']\n"
     ]
    }
   ],
   "source": [
    "data_path = \"dataset\"\n",
    "categories = os.listdir(data_path)\n",
    "print(categories)"
   ]
  },
  {
   "cell_type": "code",
   "execution_count": 20,
   "id": "694d467b",
   "metadata": {},
   "outputs": [
    {
     "name": "stdout",
     "output_type": "stream",
     "text": [
      "[0, 1, 2, 3]\n"
     ]
    }
   ],
   "source": [
    "lables = [i for i in range(len(categories))]\n",
    "print(lables)"
   ]
  },
  {
   "cell_type": "code",
   "execution_count": 21,
   "id": "6fd4f3d3",
   "metadata": {},
   "outputs": [
    {
     "name": "stdout",
     "output_type": "stream",
     "text": [
      "{'a': 0, 'ae': 1, 'e': 2, 'u': 3}\n"
     ]
    }
   ],
   "source": [
    "category_dict = {'a':0,'ae':1 ,'e':2, 'u':3}\n",
    "print(category_dict)"
   ]
  },
  {
   "cell_type": "code",
   "execution_count": 33,
   "id": "a123f1f4",
   "metadata": {},
   "outputs": [
    {
     "name": "stdout",
     "output_type": "stream",
     "text": [
      "4.12.0\n"
     ]
    }
   ],
   "source": [
    "import cv2\n",
    "# !pip install opencv-python\n",
    "print(cv2.__version__)"
   ]
  },
  {
   "cell_type": "code",
   "execution_count": null,
   "id": "90c02431",
   "metadata": {},
   "outputs": [],
   "source": [
    "for category in categories:\n",
    "    imgs_path = os.path.join(data_path,category)\n",
    "    # print(imgs_path)\n",
    "    img_names = os.listdir(imgs_path)\n",
    "    # print(img_names)\n",
    "    for img_name in img_names:\n",
    "        img_path = os.path.join(imgs_path,img_name)\n",
    "        img = cv2.imread(img_path, 0)\n",
    "        cv2.imshow('LIVE',img)\n",
    "        k = cv2.waitKey(100)\n",
    "        if(k==27):\n",
    "            break\n",
    "cv2.destroyAllWindows()"
   ]
  },
  {
   "cell_type": "code",
   "execution_count": null,
   "id": "4476f4c6",
   "metadata": {},
   "outputs": [],
   "source": []
  }
 ],
 "metadata": {
  "kernelspec": {
   "display_name": "conda_venv",
   "language": "python",
   "name": "python3"
  },
  "language_info": {
   "codemirror_mode": {
    "name": "ipython",
    "version": 3
   },
   "file_extension": ".py",
   "mimetype": "text/x-python",
   "name": "python",
   "nbconvert_exporter": "python",
   "pygments_lexer": "ipython3",
   "version": "3.12.9"
  }
 },
 "nbformat": 4,
 "nbformat_minor": 5
}
