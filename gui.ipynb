{
 "cells": [
  {
   "cell_type": "code",
   "execution_count": 33,
   "id": "e9adbdca",
   "metadata": {},
   "outputs": [],
   "source": [
    "import tkinter as tk\n",
    "from PIL import ImageTk,Image,ImageDraw\n",
    "import numpy as np\n",
    "import cv2\n",
    "import os"
   ]
  },
  {
   "cell_type": "markdown",
   "id": "4e8ed525",
   "metadata": {},
   "source": [
    "# !pip install pillow"
   ]
  },
  {
   "cell_type": "code",
   "execution_count": 32,
   "id": "93b88176",
   "metadata": {},
   "outputs": [],
   "source": [
    "count = 0\n",
    "height = 500\n",
    "width = 500\n",
    "font_btn = 'Helvetica 20 bold'\n",
    "font_lable = 'Helvetica 22 bold'"
   ]
  },
  {
   "cell_type": "code",
   "execution_count": null,
   "id": "04697ca0",
   "metadata": {},
   "outputs": [
    {
     "ename": "AttributeError",
     "evalue": "module 'tkinter' has no attribute 'detroy'",
     "output_type": "error",
     "traceback": [
      "\u001b[31m---------------------------------------------------------------------------\u001b[39m",
      "\u001b[31mAttributeError\u001b[39m                            Traceback (most recent call last)",
      "\u001b[36mCell\u001b[39m\u001b[36m \u001b[39m\u001b[32mIn[43]\u001b[39m\u001b[32m, line 42\u001b[39m\n\u001b[32m     39\u001b[39m button_clear = tk.Button(win,text=\u001b[33m'\u001b[39m\u001b[33mCLEAR\u001b[39m\u001b[33m'\u001b[39m,bg=\u001b[33m'\u001b[39m\u001b[33myellow\u001b[39m\u001b[33m'\u001b[39m,fg=\u001b[33m'\u001b[39m\u001b[33mblack\u001b[39m\u001b[33m'\u001b[39m,font=font_btn,command=clear)\n\u001b[32m     40\u001b[39m button_clear.grid(row=\u001b[32m1\u001b[39m,column=\u001b[32m2\u001b[39m)\n\u001b[32m---> \u001b[39m\u001b[32m42\u001b[39m button_exit = tk.Button(win,text=\u001b[33m'\u001b[39m\u001b[33mEXIT\u001b[39m\u001b[33m'\u001b[39m,bg=\u001b[33m'\u001b[39m\u001b[33mred\u001b[39m\u001b[33m'\u001b[39m,fg=\u001b[33m'\u001b[39m\u001b[33mwhite\u001b[39m\u001b[33m'\u001b[39m,font=font_btn,command=\u001b[43mtk\u001b[49m\u001b[43m.\u001b[49m\u001b[43mdetroy\u001b[49m)\n\u001b[32m     43\u001b[39m button_exit.grid(row=\u001b[32m1\u001b[39m,column=\u001b[32m3\u001b[39m)\n\u001b[32m     45\u001b[39m lable_status = tk.Label(win,text=\u001b[33m'\u001b[39m\u001b[33mPEDICTED CHARACTER : NONE\u001b[39m\u001b[33m'\u001b[39m,bg=\u001b[33m'\u001b[39m\u001b[33mwhite\u001b[39m\u001b[33m'\u001b[39m, font=font_lable)\n",
      "\u001b[31mAttributeError\u001b[39m: module 'tkinter' has no attribute 'detroy'"
     ]
    }
   ],
   "source": [
    "win = tk.Tk()\n",
    "\n",
    "def event_function(event):\n",
    "    x = event.x\n",
    "    y = event.y\n",
    "    x1 = x-30\n",
    "    x2 = x+30\n",
    "    y1 = y-30\n",
    "    y2 = y+30\n",
    "\n",
    "    canvas.create_oval((x1,y1,x2,y2),fill='black')\n",
    "    img_draw.ellipse((x1,y1,x2,y2), fill='black')\n",
    "\n",
    "def save():\n",
    "\n",
    "    global count\n",
    "\n",
    "    img_array = np.array(img)\n",
    "    path = os.path.join('data','sample'+str(count)+'.jpg')\n",
    "    cv2.imwrite(path,img_array)\n",
    "    count+=1\n",
    "\n",
    "def clear():\n",
    "    global img,img_draw\n",
    "    canvas.delete('all')\n",
    "    img = Image.new('RGB',(width,height),(255,255,255))\n",
    "    img_draw = ImageDraw.Draw(img)\n",
    "\n",
    "def predict():\n",
    "    \n",
    "\n",
    "\n",
    "canvas = tk.Canvas(win,width=width,height=height,bg='white')\n",
    "canvas.grid(row=0,column=0,columnspan=4)\n",
    "\n",
    "button_save = tk.Button(win,text='SAVE',bg='green',fg='white',font=font_btn,command=save)\n",
    "button_save.grid(row=1,column=0)\n",
    "\n",
    "button_predict = tk.Button(win,text='PREDICT',bg='blue',fg='white',font=font_btn, command=predict)\n",
    "button_predict.grid(row=1,column=1)\n",
    "\n",
    "button_clear = tk.Button(win,text='CLEAR',bg='yellow',fg='black',font=font_btn,command=clear)\n",
    "button_clear.grid(row=1,column=2)\n",
    "\n",
    "button_exit = tk.Button(win,text='EXIT',bg='red',fg='white',font=font_btn,command=win.destroy)\n",
    "button_exit.grid(row=1,column=3)\n",
    "\n",
    "lable_status = tk.Label(win,text='PEDICTED CHARACTER : NONE',bg='white', font=font_lable)\n",
    "lable_status.grid(row=2,column=0,columnspan=4)\n",
    "\n",
    "\n",
    "canvas.bind('<B1-Motion>',event_function)\n",
    "\n",
    "img = Image.new('RGB', (width,height), (255,255,255))\n",
    "img_draw = ImageDraw.Draw(img)\n",
    "\n",
    "win.mainloop()"
   ]
  },
  {
   "cell_type": "code",
   "execution_count": null,
   "id": "6b8376b3",
   "metadata": {},
   "outputs": [],
   "source": []
  }
 ],
 "metadata": {
  "kernelspec": {
   "display_name": "conda_venv",
   "language": "python",
   "name": "python3"
  },
  "language_info": {
   "codemirror_mode": {
    "name": "ipython",
    "version": 3
   },
   "file_extension": ".py",
   "mimetype": "text/x-python",
   "name": "python",
   "nbconvert_exporter": "python",
   "pygments_lexer": "ipython3",
   "version": "3.12.9"
  }
 },
 "nbformat": 4,
 "nbformat_minor": 5
}
