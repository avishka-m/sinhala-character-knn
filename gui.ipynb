{
 "cells": [
  {
   "cell_type": "code",
   "execution_count": 29,
   "id": "e9adbdca",
   "metadata": {},
   "outputs": [],
   "source": [
    "import tkinter as tk\n",
    "from PIL import ImageTk,Image,ImageDraw\n",
    "import numpy as np\n",
    "import cv2"
   ]
  },
  {
   "cell_type": "markdown",
   "id": "4e8ed525",
   "metadata": {},
   "source": [
    "# !pip install pillow"
   ]
  },
  {
   "cell_type": "code",
   "execution_count": 13,
   "id": "93b88176",
   "metadata": {},
   "outputs": [],
   "source": [
    "height = 500\n",
    "width = 500\n",
    "font_btn = 'Helvetica 20 bold'\n",
    "font_lable = 'Helvetica 22 bold'"
   ]
  },
  {
   "cell_type": "code",
   "execution_count": null,
   "id": "04697ca0",
   "metadata": {},
   "outputs": [],
   "source": [
    "win = tk.Tk()\n",
    "\n",
    "def event_function(event):\n",
    "    x = event.x\n",
    "    y = event.y\n",
    "    x1 = x-30\n",
    "    x2 = x+30\n",
    "    y1 = y-30\n",
    "    y2 = y+30\n",
    "\n",
    "    canvas.create_oval((x1,y1,x2,y2),fill='black')\n",
    "    img_draw.ellipse((x1,y1,x2,y2), fill='black')\n",
    "\n",
    "def save():\n",
    "    img_array = np.array(img)\n",
    "    cv2.imwrite('data/sample.png',img_array)\n",
    "\n",
    "canvas = tk.Canvas(win,width=width,height=height,bg='white')\n",
    "canvas.grid(row=0,column=0,columnspan=4)\n",
    "\n",
    "button_save = tk.Button(win,text='SAVE',bg='green',fg='white',font=font_btn,command=save)\n",
    "button_save.grid(row=1,column=0)\n",
    "\n",
    "button_save = tk.Button(win,text='PR EDICT',bg='blue',fg='white',font=font_btn)\n",
    "button_save.grid(row=1,column=1)\n",
    "\n",
    "button_predict = tk.Button(win,text='CLEAR',bg='yellow',fg='black',font=font_btn)\n",
    "button_predict.grid(row=1,column=2)\n",
    "\n",
    "button_clear = tk.Button(win,text='EXIT',bg='red',fg='white',font=font_btn)\n",
    "button_clear.grid(row=1,column=3)\n",
    "\n",
    "lable_status = tk.Label(win,text='PEDICTED CHARACTER : NONE',bg='white', font=font_lable)\n",
    "lable_status.grid(row=2,column=0,columnspan=4)\n",
    "\n",
    "\n",
    "canvas.bind('<B1-Motion>',event_function)\n",
    "\n",
    "img = Image.new('RGB', (width,height), (255,255,255))\n",
    "img_draw = ImageDraw.Draw(img)\n",
    "\n",
    "win.mainloop()"
   ]
  },
  {
   "cell_type": "code",
   "execution_count": null,
   "id": "6b8376b3",
   "metadata": {},
   "outputs": [],
   "source": []
  }
 ],
 "metadata": {
  "kernelspec": {
   "display_name": "conda_venv",
   "language": "python",
   "name": "python3"
  },
  "language_info": {
   "codemirror_mode": {
    "name": "ipython",
    "version": 3
   },
   "file_extension": ".py",
   "mimetype": "text/x-python",
   "name": "python",
   "nbconvert_exporter": "python",
   "pygments_lexer": "ipython3",
   "version": "3.12.9"
  }
 },
 "nbformat": 4,
 "nbformat_minor": 5
}
